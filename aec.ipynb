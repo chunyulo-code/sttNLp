{
 "cells": [
  {
   "cell_type": "code",
   "execution_count": 1,
   "metadata": {},
   "outputs": [],
   "source": [
    "import speech_recognition\n",
    "import time\n",
    "import datetime\n",
    "import win32gui, win32ui, win32con, win32api\n",
    "import pandas as pd\n",
    "import spacy\n",
    "from spacy import displacy\n",
    "import pickle\n",
    "import json"
   ]
  },
  {
   "cell_type": "code",
   "execution_count": 2,
   "metadata": {},
   "outputs": [],
   "source": [
    "r = speech_recognition.Recognizer()\n",
    "nlp = spacy.load(\"ner\")\n",
    "results = {'dir':'', 'bui':''}\n",
    "resultsArr = []"
   ]
  },
  {
   "cell_type": "code",
   "execution_count": 4,
   "metadata": {},
   "outputs": [
    {
     "name": "stdout",
     "output_type": "stream",
     "text": [
      "Speak Anything: \n",
      "You said : fly to the north of E\n"
     ]
    },
    {
     "data": {
      "text/html": [
       "<span class=\"tex2jax_ignore\"><div class=\"entities\" style=\"line-height: 2.5; direction: ltr\">fly to the \n",
       "<mark class=\"entity\" style=\"background: #ddd; padding: 0.45em 0.6em; margin: 0 0.25em; line-height: 1; border-radius: 0.35em;\">\n",
       "    north\n",
       "    <span style=\"font-size: 0.8em; font-weight: bold; line-height: 1; border-radius: 0.35em; vertical-align: middle; margin-left: 0.5rem\">DIRECTION</span>\n",
       "</mark>\n",
       " of \n",
       "<mark class=\"entity\" style=\"background: #ddd; padding: 0.45em 0.6em; margin: 0 0.25em; line-height: 1; border-radius: 0.35em;\">\n",
       "    E\n",
       "    <span style=\"font-size: 0.8em; font-weight: bold; line-height: 1; border-radius: 0.35em; vertical-align: middle; margin-left: 0.5rem\">BUILDING</span>\n",
       "</mark>\n",
       "</div></span>"
      ],
      "text/plain": [
       "<IPython.core.display.HTML object>"
      ]
     },
     "metadata": {},
     "output_type": "display_data"
    },
    {
     "name": "stdout",
     "output_type": "stream",
     "text": [
      "(north, E)\n",
      "DIRECTION ------> north\n",
      "DIRECTION\n",
      "BUILDING ------> E\n",
      "BUILDING\n",
      "{'dir': 'north', 'bui': 'E'}\n"
     ]
    }
   ],
   "source": [
    "with  speech_recognition.Microphone() as source:\n",
    "    print('Speak Anything: ')\n",
    "    audio = r.listen(source)\n",
    "    try:\n",
    "        text = r.recognize_google(audio, language='en-US')\n",
    "        print('You said : {}'.format(text))\n",
    "    except:\n",
    "        print('Sorry, could not recognize your voice')\n",
    "\n",
    "f=open(r\"D:\\sttNlp\\results.txt\",\"w\")\n",
    "f.write(text)\n",
    "f.close()\n",
    "\n",
    "\n",
    "doc=nlp(text)\n",
    "displacy.render(doc, style=\"ent\", jupyter=True)\n",
    "print(doc.ents)\n",
    "for ent in doc.ents:\n",
    "    print(ent.label_+' ------> '+ ent.text)\n",
    "    print(ent.label_)\n",
    "    if ent.label_ == 'DIRECTION':\n",
    "        results['dir'] = ent.text\n",
    "    elif ent.label_ == 'BUILDING':\n",
    "        results['bui'] = ent.text\n",
    "\n",
    "\n",
    "print(results)\n",
    "\n",
    "with open(r\"D:\\sttNlp\\output.txt\", 'w') as output:\n",
    "    output.write(json.dumps(results))\n",
    "\n",
    "with open(r\"C:\\Users\\GAI\\Documents\\Unreal Projects\\SmartDrone\\Content\\output.txt\", 'w') as outputToEngine:\n",
    "    arrResults = results['dir'] + \",\" + results['bui']\n",
    "    outputToEngine.write(arrResults)\n",
    "    \n",
    "\n",
    "    "
   ]
  }
 ],
 "metadata": {
  "interpreter": {
   "hash": "b3307f6fbb337884fbc128d33aaaecb0a73d711af4a25ff992ec85d2b3068a12"
  },
  "kernelspec": {
   "display_name": "Python 3.10.1 ('aecEnv': venv)",
   "language": "python",
   "name": "python3"
  },
  "language_info": {
   "codemirror_mode": {
    "name": "ipython",
    "version": 3
   },
   "file_extension": ".py",
   "mimetype": "text/x-python",
   "name": "python",
   "nbconvert_exporter": "python",
   "pygments_lexer": "ipython3",
   "version": "3.10.1"
  },
  "orig_nbformat": 4
 },
 "nbformat": 4,
 "nbformat_minor": 2
}
