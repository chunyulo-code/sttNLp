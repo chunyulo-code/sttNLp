{
 "cells": [
  {
   "cell_type": "code",
   "execution_count": 3,
   "metadata": {},
   "outputs": [],
   "source": [
    "import speech_recognition\n",
    "import time\n",
    "import datetime\n",
    "import win32gui, win32ui, win32con, win32api\n",
    "import pandas as pd\n",
    "import spacy\n",
    "from spacy import displacy\n",
    "import pickle\n",
    "import json"
   ]
  },
  {
   "cell_type": "code",
   "execution_count": 4,
   "metadata": {},
   "outputs": [],
   "source": [
    "r = speech_recognition.Recognizer()\n",
    "nlp = spacy.load(\"ner\")\n",
    "results = {'dir':'', 'bui':''}\n",
    "resultsArr = []"
   ]
  },
  {
   "cell_type": "code",
   "execution_count": 10,
   "metadata": {},
   "outputs": [
    {
     "name": "stdout",
     "output_type": "stream",
     "text": [
      "Speak Anything: \n"
     ]
    },
    {
     "ename": "KeyboardInterrupt",
     "evalue": "",
     "output_type": "error",
     "traceback": [
      "\u001b[1;31m---------------------------------------------------------------------------\u001b[0m",
      "\u001b[1;31mKeyboardInterrupt\u001b[0m                         Traceback (most recent call last)",
      "\u001b[1;32md:\\sttNlp\\aec.ipynb Cell 3'\u001b[0m in \u001b[0;36m<cell line: 1>\u001b[1;34m()\u001b[0m\n\u001b[0;32m      <a href='vscode-notebook-cell:/d%3A/sttNlp/aec.ipynb#ch0000002?line=0'>1</a>\u001b[0m \u001b[39mwith\u001b[39;00m  speech_recognition\u001b[39m.\u001b[39mMicrophone() \u001b[39mas\u001b[39;00m source:\n\u001b[0;32m      <a href='vscode-notebook-cell:/d%3A/sttNlp/aec.ipynb#ch0000002?line=1'>2</a>\u001b[0m     \u001b[39mprint\u001b[39m(\u001b[39m'\u001b[39m\u001b[39mSpeak Anything: \u001b[39m\u001b[39m'\u001b[39m)\n\u001b[1;32m----> <a href='vscode-notebook-cell:/d%3A/sttNlp/aec.ipynb#ch0000002?line=2'>3</a>\u001b[0m     audio \u001b[39m=\u001b[39m r\u001b[39m.\u001b[39;49mlisten(source)\n\u001b[0;32m      <a href='vscode-notebook-cell:/d%3A/sttNlp/aec.ipynb#ch0000002?line=3'>4</a>\u001b[0m     \u001b[39mtry\u001b[39;00m:\n\u001b[0;32m      <a href='vscode-notebook-cell:/d%3A/sttNlp/aec.ipynb#ch0000002?line=4'>5</a>\u001b[0m         text \u001b[39m=\u001b[39m r\u001b[39m.\u001b[39mrecognize_google(audio, language\u001b[39m=\u001b[39m\u001b[39m'\u001b[39m\u001b[39men-US\u001b[39m\u001b[39m'\u001b[39m)\n",
      "File \u001b[1;32md:\\sttNlp\\aecEnv\\lib\\site-packages\\speech_recognition\\__init__.py:652\u001b[0m, in \u001b[0;36mRecognizer.listen\u001b[1;34m(self, source, timeout, phrase_time_limit, snowboy_configuration)\u001b[0m\n\u001b[0;32m    <a href='file:///d%3A/sttNlp/aecEnv/lib/site-packages/speech_recognition/__init__.py?line=648'>649</a>\u001b[0m \u001b[39mif\u001b[39;00m phrase_time_limit \u001b[39mand\u001b[39;00m elapsed_time \u001b[39m-\u001b[39m phrase_start_time \u001b[39m>\u001b[39m phrase_time_limit:\n\u001b[0;32m    <a href='file:///d%3A/sttNlp/aecEnv/lib/site-packages/speech_recognition/__init__.py?line=649'>650</a>\u001b[0m     \u001b[39mbreak\u001b[39;00m\n\u001b[1;32m--> <a href='file:///d%3A/sttNlp/aecEnv/lib/site-packages/speech_recognition/__init__.py?line=651'>652</a>\u001b[0m buffer \u001b[39m=\u001b[39m source\u001b[39m.\u001b[39;49mstream\u001b[39m.\u001b[39;49mread(source\u001b[39m.\u001b[39;49mCHUNK)\n\u001b[0;32m    <a href='file:///d%3A/sttNlp/aecEnv/lib/site-packages/speech_recognition/__init__.py?line=652'>653</a>\u001b[0m \u001b[39mif\u001b[39;00m \u001b[39mlen\u001b[39m(buffer) \u001b[39m==\u001b[39m \u001b[39m0\u001b[39m: \u001b[39mbreak\u001b[39;00m  \u001b[39m# reached end of the stream\u001b[39;00m\n\u001b[0;32m    <a href='file:///d%3A/sttNlp/aecEnv/lib/site-packages/speech_recognition/__init__.py?line=653'>654</a>\u001b[0m frames\u001b[39m.\u001b[39mappend(buffer)\n",
      "File \u001b[1;32md:\\sttNlp\\aecEnv\\lib\\site-packages\\speech_recognition\\__init__.py:161\u001b[0m, in \u001b[0;36mMicrophone.MicrophoneStream.read\u001b[1;34m(self, size)\u001b[0m\n\u001b[0;32m    <a href='file:///d%3A/sttNlp/aecEnv/lib/site-packages/speech_recognition/__init__.py?line=159'>160</a>\u001b[0m \u001b[39mdef\u001b[39;00m \u001b[39mread\u001b[39m(\u001b[39mself\u001b[39m, size):\n\u001b[1;32m--> <a href='file:///d%3A/sttNlp/aecEnv/lib/site-packages/speech_recognition/__init__.py?line=160'>161</a>\u001b[0m     \u001b[39mreturn\u001b[39;00m \u001b[39mself\u001b[39;49m\u001b[39m.\u001b[39;49mpyaudio_stream\u001b[39m.\u001b[39;49mread(size, exception_on_overflow\u001b[39m=\u001b[39;49m\u001b[39mFalse\u001b[39;49;00m)\n",
      "File \u001b[1;32md:\\sttNlp\\aecEnv\\lib\\site-packages\\pyaudio.py:608\u001b[0m, in \u001b[0;36mStream.read\u001b[1;34m(self, num_frames, exception_on_overflow)\u001b[0m\n\u001b[0;32m    <a href='file:///d%3A/sttNlp/aecEnv/lib/site-packages/pyaudio.py?line=603'>604</a>\u001b[0m \u001b[39mif\u001b[39;00m \u001b[39mnot\u001b[39;00m \u001b[39mself\u001b[39m\u001b[39m.\u001b[39m_is_input:\n\u001b[0;32m    <a href='file:///d%3A/sttNlp/aecEnv/lib/site-packages/pyaudio.py?line=604'>605</a>\u001b[0m     \u001b[39mraise\u001b[39;00m \u001b[39mIOError\u001b[39;00m(\u001b[39m\"\u001b[39m\u001b[39mNot input stream\u001b[39m\u001b[39m\"\u001b[39m,\n\u001b[0;32m    <a href='file:///d%3A/sttNlp/aecEnv/lib/site-packages/pyaudio.py?line=605'>606</a>\u001b[0m                   paCanNotReadFromAnOutputOnlyStream)\n\u001b[1;32m--> <a href='file:///d%3A/sttNlp/aecEnv/lib/site-packages/pyaudio.py?line=607'>608</a>\u001b[0m \u001b[39mreturn\u001b[39;00m pa\u001b[39m.\u001b[39;49mread_stream(\u001b[39mself\u001b[39;49m\u001b[39m.\u001b[39;49m_stream, num_frames, exception_on_overflow)\n",
      "\u001b[1;31mKeyboardInterrupt\u001b[0m: "
     ]
    }
   ],
   "source": [
    "with  speech_recognition.Microphone() as source:\n",
    "    print('Speak Anything: ')\n",
    "    audio = r.listen(source)\n",
    "    try:\n",
    "        text = r.recognize_google(audio, language='en-US')\n",
    "        print('You said : {}'.format(text))\n",
    "    except:\n",
    "        print('Sorry, could not recognize your voice')\n",
    "\n",
    "f=open(r\"D:\\sttNlp\\results.txt\",\"w\")\n",
    "f.write(text)\n",
    "f.close()\n",
    "\n",
    "\n",
    "doc=nlp(text)\n",
    "displacy.render(doc, style=\"ent\", jupyter=True)\n",
    "print(doc.ents)\n",
    "for ent in doc.ents:\n",
    "    print(ent.label_+' ------> '+ ent.text)\n",
    "    print(ent.label_)\n",
    "    if ent.label_ == 'DIRECTION':\n",
    "        results['dir'] = ent.text\n",
    "    elif ent.label_ == 'BUILDING':\n",
    "        results['bui'] = ent.text\n",
    "    elif ent.label_ == 'FUNCTION':\n",
    "        results['func'] = ent.text\n",
    "\n",
    "\n",
    "print(results)\n",
    "\n",
    "with open(r\"D:\\sttNlp\\output.txt\", 'w') as output:\n",
    "    output.write(json.dumps(results))\n",
    "\n",
    "with open(r\"D:\\ue4\\User_Testing\\Output.txt\", 'w') as outputToEngine:\n",
    "    arrResults = results['dir'] + \",\" + results['bui'] + \",\" + results['func']\n",
    "    outputToEngine.write(arrResults)\n",
    "    \n",
    "\n",
    "    "
   ]
  }
 ],
 "metadata": {
  "interpreter": {
   "hash": "a53855557929265f72e410bb530a0479c5b94e50b9078f22ff4ea0828ac05d9f"
  },
  "kernelspec": {
   "display_name": "Python 3.10.1 ('aecEnv': venv)",
   "language": "python",
   "name": "python3"
  },
  "language_info": {
   "codemirror_mode": {
    "name": "ipython",
    "version": 3
   },
   "file_extension": ".py",
   "mimetype": "text/x-python",
   "name": "python",
   "nbconvert_exporter": "python",
   "pygments_lexer": "ipython3",
   "version": "3.10.1"
  },
  "orig_nbformat": 4
 },
 "nbformat": 4,
 "nbformat_minor": 2
}
